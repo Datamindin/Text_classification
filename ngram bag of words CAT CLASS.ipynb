{
 "cells": [
  {
   "cell_type": "code",
   "execution_count": 1,
   "id": "bdb4655e",
   "metadata": {},
   "outputs": [],
   "source": [
    "from sklearn.feature_extraction.text import CountVectorizer"
   ]
  },
  {
   "cell_type": "code",
   "execution_count": 2,
   "id": "6c4bc162",
   "metadata": {},
   "outputs": [],
   "source": [
    "vc = CountVectorizer()"
   ]
  },
  {
   "cell_type": "code",
   "execution_count": 3,
   "id": "e0ca474f",
   "metadata": {},
   "outputs": [
    {
     "data": {
      "text/plain": [
       "CountVectorizer()"
      ]
     },
     "execution_count": 3,
     "metadata": {},
     "output_type": "execute_result"
    }
   ],
   "source": [
    "vc.fit([\"Thor Hathodawala is looking for a job\"])"
   ]
  },
  {
   "cell_type": "code",
   "execution_count": 4,
   "id": "b7c7a247",
   "metadata": {},
   "outputs": [
    {
     "data": {
      "text/plain": [
       "{'thor': 5, 'hathodawala': 1, 'is': 2, 'looking': 4, 'for': 0, 'job': 3}"
      ]
     },
     "execution_count": 4,
     "metadata": {},
     "output_type": "execute_result"
    }
   ],
   "source": [
    "vc.vocabulary_"
   ]
  },
  {
   "cell_type": "code",
   "execution_count": 5,
   "id": "55d9fccf",
   "metadata": {},
   "outputs": [],
   "source": [
    "vc.vocabulary"
   ]
  },
  {
   "cell_type": "code",
   "execution_count": 6,
   "id": "b171d713",
   "metadata": {},
   "outputs": [
    {
     "data": {
      "text/plain": [
       "{'thor': 9,\n",
       " 'hathodawala': 2,\n",
       " 'is': 4,\n",
       " 'looking': 7,\n",
       " 'for': 0,\n",
       " 'job': 6,\n",
       " 'thor hathodawala': 10,\n",
       " 'hathodawala is': 3,\n",
       " 'is looking': 5,\n",
       " 'looking for': 8,\n",
       " 'for job': 1}"
      ]
     },
     "execution_count": 6,
     "metadata": {},
     "output_type": "execute_result"
    }
   ],
   "source": [
    "v = CountVectorizer(ngram_range=(1,2))\n",
    "v.fit([\"Thor Hathodawala is looking for a job\"])\n",
    "v.vocabulary_"
   ]
  },
  {
   "cell_type": "code",
   "execution_count": 7,
   "id": "3827e848",
   "metadata": {},
   "outputs": [
    {
     "data": {
      "text/plain": [
       "{'thor': 12,\n",
       " 'hathodawala': 2,\n",
       " 'is': 5,\n",
       " 'looking': 9,\n",
       " 'for': 0,\n",
       " 'job': 8,\n",
       " 'thor hathodawala': 13,\n",
       " 'hathodawala is': 3,\n",
       " 'is looking': 6,\n",
       " 'looking for': 10,\n",
       " 'for job': 1,\n",
       " 'thor hathodawala is': 14,\n",
       " 'hathodawala is looking': 4,\n",
       " 'is looking for': 7,\n",
       " 'looking for job': 11}"
      ]
     },
     "execution_count": 7,
     "metadata": {},
     "output_type": "execute_result"
    }
   ],
   "source": [
    "v = CountVectorizer(ngram_range=(1,3))\n",
    "v.fit([\"Thor Hathodawala is looking for a job\"])\n",
    "v.vocabulary_"
   ]
  },
  {
   "cell_type": "markdown",
   "id": "e67917b3",
   "metadata": {},
   "source": [
    "We will not take a simple collection of text documents, preprocess them to remove stop words, lemmatize etc and then generate bag of 1 grams and 2 grams from it"
   ]
  },
  {
   "cell_type": "code",
   "execution_count": 8,
   "id": "13be51b6",
   "metadata": {},
   "outputs": [],
   "source": [
    "corpus = [\n",
    "    \"Thor ate pizza\",\n",
    "    \"Loki is tall\",\n",
    "    \"Loki is eating pizza\"\n",
    "]"
   ]
  },
  {
   "cell_type": "code",
   "execution_count": 9,
   "id": "035a44bc",
   "metadata": {},
   "outputs": [],
   "source": [
    "import spacy\n",
    "\n",
    "nlp = spacy.load(\"en_core_web_sm\")\n",
    "\n",
    "def preprocess(text):\n",
    "    filtered_token = []\n",
    "    doc = nlp(text)\n",
    "    \n",
    "    for token in doc:\n",
    "        if token.is_stop or token.is_punct:\n",
    "            continue\n",
    "        filtered_token.append(token.lemma_)\n",
    "        \n",
    "    return \" \".join(filtered_token)\n",
    "        "
   ]
  },
  {
   "cell_type": "code",
   "execution_count": 10,
   "id": "0c2d0cd9",
   "metadata": {},
   "outputs": [
    {
     "data": {
      "text/plain": [
       "'thor eat pizza'"
      ]
     },
     "execution_count": 10,
     "metadata": {},
     "output_type": "execute_result"
    }
   ],
   "source": [
    "preprocess('Thor ate pizza')"
   ]
  },
  {
   "cell_type": "code",
   "execution_count": 11,
   "id": "03f8dfd7",
   "metadata": {},
   "outputs": [
    {
     "data": {
      "text/plain": [
       "'Loki eat pizza'"
      ]
     },
     "execution_count": 11,
     "metadata": {},
     "output_type": "execute_result"
    }
   ],
   "source": [
    "preprocess('Loki is eating pizza')"
   ]
  },
  {
   "cell_type": "code",
   "execution_count": 12,
   "id": "01ae41f9",
   "metadata": {},
   "outputs": [],
   "source": [
    "corpus_processed  =  ([preprocess(i) for i in corpus])"
   ]
  },
  {
   "cell_type": "code",
   "execution_count": 13,
   "id": "2809686f",
   "metadata": {},
   "outputs": [
    {
     "data": {
      "text/plain": [
       "['thor eat pizza', 'Loki tall', 'Loki eat pizza']"
      ]
     },
     "execution_count": 13,
     "metadata": {},
     "output_type": "execute_result"
    }
   ],
   "source": [
    "corpus_processed"
   ]
  },
  {
   "cell_type": "code",
   "execution_count": 14,
   "id": "efd71359",
   "metadata": {},
   "outputs": [
    {
     "data": {
      "text/plain": [
       "{'thor': 7,\n",
       " 'eat': 0,\n",
       " 'pizza': 5,\n",
       " 'thor eat': 8,\n",
       " 'eat pizza': 1,\n",
       " 'loki': 2,\n",
       " 'tall': 6,\n",
       " 'loki tall': 4,\n",
       " 'loki eat': 3}"
      ]
     },
     "execution_count": 14,
     "metadata": {},
     "output_type": "execute_result"
    }
   ],
   "source": [
    "v = CountVectorizer(ngram_range=(1,2))\n",
    "v.fit(corpus_processed)\n",
    "v.vocabulary_"
   ]
  },
  {
   "cell_type": "markdown",
   "id": "e68e4689",
   "metadata": {},
   "source": [
    "Now generate bag of n gram vector for few sample documents"
   ]
  },
  {
   "cell_type": "code",
   "execution_count": 15,
   "id": "745225dc",
   "metadata": {},
   "outputs": [
    {
     "data": {
      "text/plain": [
       "<1x9 sparse matrix of type '<class 'numpy.int64'>'\n",
       "\twith 5 stored elements in Compressed Sparse Row format>"
      ]
     },
     "execution_count": 15,
     "metadata": {},
     "output_type": "execute_result"
    }
   ],
   "source": [
    "v.transform([\"Thor eat pizza\"])"
   ]
  },
  {
   "cell_type": "code",
   "execution_count": 16,
   "id": "3d4abc74",
   "metadata": {},
   "outputs": [
    {
     "data": {
      "text/plain": [
       "array([[1, 1, 0, 0, 0, 1, 0, 1, 1]], dtype=int64)"
      ]
     },
     "execution_count": 16,
     "metadata": {},
     "output_type": "execute_result"
    }
   ],
   "source": [
    "v.transform([\"Thor eat pizza\"]).toarray()"
   ]
  },
  {
   "cell_type": "markdown",
   "id": "f2c9b287",
   "metadata": {},
   "source": [
    "Let's take a document that has out of vocabulary (OOV) term and see how bag of ngram generates vector out of it"
   ]
  },
  {
   "cell_type": "code",
   "execution_count": 17,
   "id": "9e849cc6",
   "metadata": {},
   "outputs": [
    {
     "data": {
      "text/plain": [
       "array([[1, 1, 0, 0, 0, 1, 0, 0, 0]], dtype=int64)"
      ]
     },
     "execution_count": 17,
     "metadata": {},
     "output_type": "execute_result"
    }
   ],
   "source": [
    "v.transform([\"Hulk eat pizza\"]).toarray()"
   ]
  },
  {
   "cell_type": "code",
   "execution_count": 1,
   "id": "086a19df",
   "metadata": {},
   "outputs": [],
   "source": [
    "## News Category Classification Problem\n",
    "\n"
   ]
  },
  {
   "cell_type": "code",
   "execution_count": 18,
   "id": "7193eb8d",
   "metadata": {},
   "outputs": [
    {
     "name": "stdout",
     "output_type": "stream",
     "text": [
      "(12695, 2)\n"
     ]
    },
    {
     "data": {
      "text/html": [
       "<div>\n",
       "<style scoped>\n",
       "    .dataframe tbody tr th:only-of-type {\n",
       "        vertical-align: middle;\n",
       "    }\n",
       "\n",
       "    .dataframe tbody tr th {\n",
       "        vertical-align: top;\n",
       "    }\n",
       "\n",
       "    .dataframe thead th {\n",
       "        text-align: right;\n",
       "    }\n",
       "</style>\n",
       "<table border=\"1\" class=\"dataframe\">\n",
       "  <thead>\n",
       "    <tr style=\"text-align: right;\">\n",
       "      <th></th>\n",
       "      <th>text</th>\n",
       "      <th>category</th>\n",
       "    </tr>\n",
       "  </thead>\n",
       "  <tbody>\n",
       "    <tr>\n",
       "      <th>0</th>\n",
       "      <td>Watching Schrödinger's Cat Die University of C...</td>\n",
       "      <td>SCIENCE</td>\n",
       "    </tr>\n",
       "    <tr>\n",
       "      <th>1</th>\n",
       "      <td>WATCH: Freaky Vortex Opens Up In Flooded Lake</td>\n",
       "      <td>SCIENCE</td>\n",
       "    </tr>\n",
       "    <tr>\n",
       "      <th>2</th>\n",
       "      <td>Entrepreneurs Today Don't Need a Big Budget to...</td>\n",
       "      <td>BUSINESS</td>\n",
       "    </tr>\n",
       "    <tr>\n",
       "      <th>3</th>\n",
       "      <td>These Roads Could Recharge Your Electric Car A...</td>\n",
       "      <td>BUSINESS</td>\n",
       "    </tr>\n",
       "    <tr>\n",
       "      <th>4</th>\n",
       "      <td>Civilian 'Guard' Fires Gun While 'Protecting' ...</td>\n",
       "      <td>CRIME</td>\n",
       "    </tr>\n",
       "  </tbody>\n",
       "</table>\n",
       "</div>"
      ],
      "text/plain": [
       "                                                text  category\n",
       "0  Watching Schrödinger's Cat Die University of C...   SCIENCE\n",
       "1     WATCH: Freaky Vortex Opens Up In Flooded Lake    SCIENCE\n",
       "2  Entrepreneurs Today Don't Need a Big Budget to...  BUSINESS\n",
       "3  These Roads Could Recharge Your Electric Car A...  BUSINESS\n",
       "4  Civilian 'Guard' Fires Gun While 'Protecting' ...     CRIME"
      ]
     },
     "execution_count": 18,
     "metadata": {},
     "output_type": "execute_result"
    }
   ],
   "source": [
    "import pandas as pd\n",
    "\n",
    "df = pd.read_json('news_dataset.json')\n",
    "print(df.shape)\n",
    "\n",
    "df.head()"
   ]
  },
  {
   "cell_type": "code",
   "execution_count": 19,
   "id": "17f3cbfe",
   "metadata": {},
   "outputs": [
    {
     "data": {
      "text/plain": [
       "BUSINESS    4254\n",
       "SPORTS      4167\n",
       "CRIME       2893\n",
       "SCIENCE     1381\n",
       "Name: category, dtype: int64"
      ]
     },
     "execution_count": 19,
     "metadata": {},
     "output_type": "execute_result"
    }
   ],
   "source": [
    "df.category.value_counts()"
   ]
  },
  {
   "cell_type": "code",
   "execution_count": null,
   "id": "f8f84ad2",
   "metadata": {},
   "outputs": [],
   "source": []
  },
  {
   "cell_type": "code",
   "execution_count": 20,
   "id": "ea4d2e17",
   "metadata": {},
   "outputs": [],
   "source": [
    "min_samples = 1381"
   ]
  },
  {
   "cell_type": "code",
   "execution_count": 21,
   "id": "a6f0a575",
   "metadata": {},
   "outputs": [],
   "source": [
    "df_bus = df[df['category'] == 'BUSINESS'].sample(min_samples, random_state=1)\n",
    "df_spt = df[df['category'] == 'SPORTS'].sample(min_samples, random_state=1)\n",
    "df_crm = df[df['category'] == 'CRIME'].sample(min_samples, random_state=1)\n",
    "df_sc = df[df['category'] == 'SCIENCE'].sample(min_samples, random_state=1)"
   ]
  },
  {
   "cell_type": "code",
   "execution_count": 22,
   "id": "90ce662b",
   "metadata": {},
   "outputs": [
    {
     "data": {
      "text/html": [
       "<div>\n",
       "<style scoped>\n",
       "    .dataframe tbody tr th:only-of-type {\n",
       "        vertical-align: middle;\n",
       "    }\n",
       "\n",
       "    .dataframe tbody tr th {\n",
       "        vertical-align: top;\n",
       "    }\n",
       "\n",
       "    .dataframe thead th {\n",
       "        text-align: right;\n",
       "    }\n",
       "</style>\n",
       "<table border=\"1\" class=\"dataframe\">\n",
       "  <thead>\n",
       "    <tr style=\"text-align: right;\">\n",
       "      <th></th>\n",
       "      <th>text</th>\n",
       "      <th>category</th>\n",
       "    </tr>\n",
       "  </thead>\n",
       "  <tbody>\n",
       "    <tr>\n",
       "      <th>9625</th>\n",
       "      <td>Taking Your Startup Public Is Fraught With Neg...</td>\n",
       "      <td>BUSINESS</td>\n",
       "    </tr>\n",
       "    <tr>\n",
       "      <th>7958</th>\n",
       "      <td>Women in Business: Q&amp;A with Donna Josephson Ch...</td>\n",
       "      <td>BUSINESS</td>\n",
       "    </tr>\n",
       "    <tr>\n",
       "      <th>691</th>\n",
       "      <td>Ladies From the Shark Tank Excellent advice fr...</td>\n",
       "      <td>BUSINESS</td>\n",
       "    </tr>\n",
       "    <tr>\n",
       "      <th>4905</th>\n",
       "      <td>Farmer Forced To Dump Insane Amount Of Gorgeou...</td>\n",
       "      <td>BUSINESS</td>\n",
       "    </tr>\n",
       "    <tr>\n",
       "      <th>8899</th>\n",
       "      <td>Why You Should Care About The Backlash Against...</td>\n",
       "      <td>BUSINESS</td>\n",
       "    </tr>\n",
       "    <tr>\n",
       "      <th>...</th>\n",
       "      <td>...</td>\n",
       "      <td>...</td>\n",
       "    </tr>\n",
       "    <tr>\n",
       "      <th>9417</th>\n",
       "      <td>Will Uber's New 'Drivers Association' Have Any...</td>\n",
       "      <td>BUSINESS</td>\n",
       "    </tr>\n",
       "    <tr>\n",
       "      <th>11382</th>\n",
       "      <td>Here's Why You Hate Work</td>\n",
       "      <td>BUSINESS</td>\n",
       "    </tr>\n",
       "    <tr>\n",
       "      <th>9903</th>\n",
       "      <td>How Managers Can Hire Employees More Effectively</td>\n",
       "      <td>BUSINESS</td>\n",
       "    </tr>\n",
       "    <tr>\n",
       "      <th>12081</th>\n",
       "      <td>Rethinking Values in the Workplace</td>\n",
       "      <td>BUSINESS</td>\n",
       "    </tr>\n",
       "    <tr>\n",
       "      <th>1712</th>\n",
       "      <td>Exxon Moves To Block NY Climate Fraud Investig...</td>\n",
       "      <td>BUSINESS</td>\n",
       "    </tr>\n",
       "  </tbody>\n",
       "</table>\n",
       "<p>1381 rows × 2 columns</p>\n",
       "</div>"
      ],
      "text/plain": [
       "                                                    text  category\n",
       "9625   Taking Your Startup Public Is Fraught With Neg...  BUSINESS\n",
       "7958   Women in Business: Q&A with Donna Josephson Ch...  BUSINESS\n",
       "691    Ladies From the Shark Tank Excellent advice fr...  BUSINESS\n",
       "4905   Farmer Forced To Dump Insane Amount Of Gorgeou...  BUSINESS\n",
       "8899   Why You Should Care About The Backlash Against...  BUSINESS\n",
       "...                                                  ...       ...\n",
       "9417   Will Uber's New 'Drivers Association' Have Any...  BUSINESS\n",
       "11382                          Here's Why You Hate Work   BUSINESS\n",
       "9903   How Managers Can Hire Employees More Effectively   BUSINESS\n",
       "12081                Rethinking Values in the Workplace   BUSINESS\n",
       "1712   Exxon Moves To Block NY Climate Fraud Investig...  BUSINESS\n",
       "\n",
       "[1381 rows x 2 columns]"
      ]
     },
     "execution_count": 22,
     "metadata": {},
     "output_type": "execute_result"
    }
   ],
   "source": [
    "df_bus"
   ]
  },
  {
   "cell_type": "code",
   "execution_count": 23,
   "id": "db589cf6",
   "metadata": {},
   "outputs": [],
   "source": [
    "df_bal = pd.concat([df_bus,df_spt,df_crm,df_sc],axis=0)"
   ]
  },
  {
   "cell_type": "code",
   "execution_count": 24,
   "id": "5585e216",
   "metadata": {},
   "outputs": [
    {
     "data": {
      "text/html": [
       "<div>\n",
       "<style scoped>\n",
       "    .dataframe tbody tr th:only-of-type {\n",
       "        vertical-align: middle;\n",
       "    }\n",
       "\n",
       "    .dataframe tbody tr th {\n",
       "        vertical-align: top;\n",
       "    }\n",
       "\n",
       "    .dataframe thead th {\n",
       "        text-align: right;\n",
       "    }\n",
       "</style>\n",
       "<table border=\"1\" class=\"dataframe\">\n",
       "  <thead>\n",
       "    <tr style=\"text-align: right;\">\n",
       "      <th></th>\n",
       "      <th>text</th>\n",
       "      <th>category</th>\n",
       "    </tr>\n",
       "  </thead>\n",
       "  <tbody>\n",
       "    <tr>\n",
       "      <th>9625</th>\n",
       "      <td>Taking Your Startup Public Is Fraught With Neg...</td>\n",
       "      <td>BUSINESS</td>\n",
       "    </tr>\n",
       "    <tr>\n",
       "      <th>7958</th>\n",
       "      <td>Women in Business: Q&amp;A with Donna Josephson Ch...</td>\n",
       "      <td>BUSINESS</td>\n",
       "    </tr>\n",
       "    <tr>\n",
       "      <th>691</th>\n",
       "      <td>Ladies From the Shark Tank Excellent advice fr...</td>\n",
       "      <td>BUSINESS</td>\n",
       "    </tr>\n",
       "    <tr>\n",
       "      <th>4905</th>\n",
       "      <td>Farmer Forced To Dump Insane Amount Of Gorgeou...</td>\n",
       "      <td>BUSINESS</td>\n",
       "    </tr>\n",
       "    <tr>\n",
       "      <th>8899</th>\n",
       "      <td>Why You Should Care About The Backlash Against...</td>\n",
       "      <td>BUSINESS</td>\n",
       "    </tr>\n",
       "    <tr>\n",
       "      <th>...</th>\n",
       "      <td>...</td>\n",
       "      <td>...</td>\n",
       "    </tr>\n",
       "    <tr>\n",
       "      <th>6604</th>\n",
       "      <td>What A Dust Devil Looks Like On Mars The image...</td>\n",
       "      <td>SCIENCE</td>\n",
       "    </tr>\n",
       "    <tr>\n",
       "      <th>8232</th>\n",
       "      <td>Scientists Offer Plan To Hide Earth From Advan...</td>\n",
       "      <td>SCIENCE</td>\n",
       "    </tr>\n",
       "    <tr>\n",
       "      <th>9928</th>\n",
       "      <td>Sorry, But Cinderella's Glass Slippers Would'v...</td>\n",
       "      <td>SCIENCE</td>\n",
       "    </tr>\n",
       "    <tr>\n",
       "      <th>2153</th>\n",
       "      <td>New NASA Photo Shows A Crescent Pluto In All I...</td>\n",
       "      <td>SCIENCE</td>\n",
       "    </tr>\n",
       "    <tr>\n",
       "      <th>9574</th>\n",
       "      <td>Zoom Into The Mesmerizing Heart Of Our Own Mil...</td>\n",
       "      <td>SCIENCE</td>\n",
       "    </tr>\n",
       "  </tbody>\n",
       "</table>\n",
       "<p>5524 rows × 2 columns</p>\n",
       "</div>"
      ],
      "text/plain": [
       "                                                   text  category\n",
       "9625  Taking Your Startup Public Is Fraught With Neg...  BUSINESS\n",
       "7958  Women in Business: Q&A with Donna Josephson Ch...  BUSINESS\n",
       "691   Ladies From the Shark Tank Excellent advice fr...  BUSINESS\n",
       "4905  Farmer Forced To Dump Insane Amount Of Gorgeou...  BUSINESS\n",
       "8899  Why You Should Care About The Backlash Against...  BUSINESS\n",
       "...                                                 ...       ...\n",
       "6604  What A Dust Devil Looks Like On Mars The image...   SCIENCE\n",
       "8232  Scientists Offer Plan To Hide Earth From Advan...   SCIENCE\n",
       "9928  Sorry, But Cinderella's Glass Slippers Would'v...   SCIENCE\n",
       "2153  New NASA Photo Shows A Crescent Pluto In All I...   SCIENCE\n",
       "9574  Zoom Into The Mesmerizing Heart Of Our Own Mil...   SCIENCE\n",
       "\n",
       "[5524 rows x 2 columns]"
      ]
     },
     "execution_count": 24,
     "metadata": {},
     "output_type": "execute_result"
    }
   ],
   "source": [
    "df_bal"
   ]
  },
  {
   "cell_type": "code",
   "execution_count": 25,
   "id": "53c01c24",
   "metadata": {},
   "outputs": [
    {
     "data": {
      "text/plain": [
       "BUSINESS    1381\n",
       "SPORTS      1381\n",
       "CRIME       1381\n",
       "SCIENCE     1381\n",
       "Name: category, dtype: int64"
      ]
     },
     "execution_count": 25,
     "metadata": {},
     "output_type": "execute_result"
    }
   ],
   "source": [
    "df_bal['category'].value_counts()"
   ]
  },
  {
   "cell_type": "code",
   "execution_count": 26,
   "id": "a3f11e65",
   "metadata": {},
   "outputs": [],
   "source": [
    "from sklearn.preprocessing import LabelEncoder"
   ]
  },
  {
   "cell_type": "code",
   "execution_count": 27,
   "id": "305145b0",
   "metadata": {},
   "outputs": [],
   "source": [
    "Lb = LabelEncoder()"
   ]
  },
  {
   "cell_type": "code",
   "execution_count": 87,
   "id": "278419c5",
   "metadata": {},
   "outputs": [],
   "source": [
    "# cat_tr = Lb.fit_transform(df_bal['category'])"
   ]
  },
  {
   "cell_type": "code",
   "execution_count": 88,
   "id": "36d5cf59",
   "metadata": {},
   "outputs": [],
   "source": [
    "# cat_col = pd.DataFrame(cat_tr)"
   ]
  },
  {
   "cell_type": "code",
   "execution_count": 89,
   "id": "bdb9e4ac",
   "metadata": {},
   "outputs": [],
   "source": [
    "# cat_col"
   ]
  },
  {
   "cell_type": "code",
   "execution_count": 90,
   "id": "eeb9b5fb",
   "metadata": {},
   "outputs": [],
   "source": [
    "# type(cat_col)"
   ]
  },
  {
   "cell_type": "code",
   "execution_count": 91,
   "id": "d6849b91",
   "metadata": {},
   "outputs": [],
   "source": [
    "# cat_col[0].dtype"
   ]
  },
  {
   "cell_type": "code",
   "execution_count": 92,
   "id": "1d0c903c",
   "metadata": {},
   "outputs": [],
   "source": [
    "# df_bal = pd.concat([df_bal, cat_col], axis = 1)"
   ]
  },
  {
   "cell_type": "code",
   "execution_count": 93,
   "id": "8dbfcbc3",
   "metadata": {},
   "outputs": [],
   "source": [
    "# df_bal = df_bal.rename(columns={0:\"Cat\"})"
   ]
  },
  {
   "cell_type": "code",
   "execution_count": 28,
   "id": "42866e91",
   "metadata": {},
   "outputs": [
    {
     "data": {
      "text/html": [
       "<div>\n",
       "<style scoped>\n",
       "    .dataframe tbody tr th:only-of-type {\n",
       "        vertical-align: middle;\n",
       "    }\n",
       "\n",
       "    .dataframe tbody tr th {\n",
       "        vertical-align: top;\n",
       "    }\n",
       "\n",
       "    .dataframe thead th {\n",
       "        text-align: right;\n",
       "    }\n",
       "</style>\n",
       "<table border=\"1\" class=\"dataframe\">\n",
       "  <thead>\n",
       "    <tr style=\"text-align: right;\">\n",
       "      <th></th>\n",
       "      <th>text</th>\n",
       "      <th>category</th>\n",
       "    </tr>\n",
       "  </thead>\n",
       "  <tbody>\n",
       "    <tr>\n",
       "      <th>9625</th>\n",
       "      <td>Taking Your Startup Public Is Fraught With Neg...</td>\n",
       "      <td>BUSINESS</td>\n",
       "    </tr>\n",
       "    <tr>\n",
       "      <th>7958</th>\n",
       "      <td>Women in Business: Q&amp;A with Donna Josephson Ch...</td>\n",
       "      <td>BUSINESS</td>\n",
       "    </tr>\n",
       "    <tr>\n",
       "      <th>691</th>\n",
       "      <td>Ladies From the Shark Tank Excellent advice fr...</td>\n",
       "      <td>BUSINESS</td>\n",
       "    </tr>\n",
       "    <tr>\n",
       "      <th>4905</th>\n",
       "      <td>Farmer Forced To Dump Insane Amount Of Gorgeou...</td>\n",
       "      <td>BUSINESS</td>\n",
       "    </tr>\n",
       "    <tr>\n",
       "      <th>8899</th>\n",
       "      <td>Why You Should Care About The Backlash Against...</td>\n",
       "      <td>BUSINESS</td>\n",
       "    </tr>\n",
       "    <tr>\n",
       "      <th>...</th>\n",
       "      <td>...</td>\n",
       "      <td>...</td>\n",
       "    </tr>\n",
       "    <tr>\n",
       "      <th>6604</th>\n",
       "      <td>What A Dust Devil Looks Like On Mars The image...</td>\n",
       "      <td>SCIENCE</td>\n",
       "    </tr>\n",
       "    <tr>\n",
       "      <th>8232</th>\n",
       "      <td>Scientists Offer Plan To Hide Earth From Advan...</td>\n",
       "      <td>SCIENCE</td>\n",
       "    </tr>\n",
       "    <tr>\n",
       "      <th>9928</th>\n",
       "      <td>Sorry, But Cinderella's Glass Slippers Would'v...</td>\n",
       "      <td>SCIENCE</td>\n",
       "    </tr>\n",
       "    <tr>\n",
       "      <th>2153</th>\n",
       "      <td>New NASA Photo Shows A Crescent Pluto In All I...</td>\n",
       "      <td>SCIENCE</td>\n",
       "    </tr>\n",
       "    <tr>\n",
       "      <th>9574</th>\n",
       "      <td>Zoom Into The Mesmerizing Heart Of Our Own Mil...</td>\n",
       "      <td>SCIENCE</td>\n",
       "    </tr>\n",
       "  </tbody>\n",
       "</table>\n",
       "<p>5524 rows × 2 columns</p>\n",
       "</div>"
      ],
      "text/plain": [
       "                                                   text  category\n",
       "9625  Taking Your Startup Public Is Fraught With Neg...  BUSINESS\n",
       "7958  Women in Business: Q&A with Donna Josephson Ch...  BUSINESS\n",
       "691   Ladies From the Shark Tank Excellent advice fr...  BUSINESS\n",
       "4905  Farmer Forced To Dump Insane Amount Of Gorgeou...  BUSINESS\n",
       "8899  Why You Should Care About The Backlash Against...  BUSINESS\n",
       "...                                                 ...       ...\n",
       "6604  What A Dust Devil Looks Like On Mars The image...   SCIENCE\n",
       "8232  Scientists Offer Plan To Hide Earth From Advan...   SCIENCE\n",
       "9928  Sorry, But Cinderella's Glass Slippers Would'v...   SCIENCE\n",
       "2153  New NASA Photo Shows A Crescent Pluto In All I...   SCIENCE\n",
       "9574  Zoom Into The Mesmerizing Heart Of Our Own Mil...   SCIENCE\n",
       "\n",
       "[5524 rows x 2 columns]"
      ]
     },
     "execution_count": 28,
     "metadata": {},
     "output_type": "execute_result"
    }
   ],
   "source": [
    "df_bal"
   ]
  },
  {
   "cell_type": "code",
   "execution_count": 29,
   "id": "1a265765",
   "metadata": {},
   "outputs": [
    {
     "name": "stdout",
     "output_type": "stream",
     "text": [
      "<class 'pandas.core.frame.DataFrame'>\n",
      "Int64Index: 5524 entries, 9625 to 9574\n",
      "Data columns (total 2 columns):\n",
      " #   Column    Non-Null Count  Dtype \n",
      "---  ------    --------------  ----- \n",
      " 0   text      5524 non-null   object\n",
      " 1   category  5524 non-null   object\n",
      "dtypes: object(2)\n",
      "memory usage: 129.5+ KB\n"
     ]
    }
   ],
   "source": [
    "df_bal.info()"
   ]
  },
  {
   "cell_type": "code",
   "execution_count": 32,
   "id": "9cb122e2",
   "metadata": {},
   "outputs": [],
   "source": [
    "#  df_bal['Cat'].value_counts()"
   ]
  },
  {
   "cell_type": "code",
   "execution_count": 97,
   "id": "75cdf6cd",
   "metadata": {},
   "outputs": [],
   "source": [
    "# df_bal.iloc[5511]"
   ]
  },
  {
   "cell_type": "code",
   "execution_count": 98,
   "id": "92f85673",
   "metadata": {},
   "outputs": [],
   "source": [
    "# df_bal['Cat'].dtype"
   ]
  },
  {
   "cell_type": "code",
   "execution_count": 99,
   "id": "4f1b418e",
   "metadata": {},
   "outputs": [],
   "source": [
    "# df_bal[\"Cat\"] = df_bal['Cat'].astype(int)"
   ]
  },
  {
   "cell_type": "code",
   "execution_count": 30,
   "id": "351e6ec3",
   "metadata": {},
   "outputs": [
    {
     "data": {
      "text/html": [
       "<div>\n",
       "<style scoped>\n",
       "    .dataframe tbody tr th:only-of-type {\n",
       "        vertical-align: middle;\n",
       "    }\n",
       "\n",
       "    .dataframe tbody tr th {\n",
       "        vertical-align: top;\n",
       "    }\n",
       "\n",
       "    .dataframe thead th {\n",
       "        text-align: right;\n",
       "    }\n",
       "</style>\n",
       "<table border=\"1\" class=\"dataframe\">\n",
       "  <thead>\n",
       "    <tr style=\"text-align: right;\">\n",
       "      <th></th>\n",
       "      <th>text</th>\n",
       "      <th>category</th>\n",
       "    </tr>\n",
       "  </thead>\n",
       "  <tbody>\n",
       "    <tr>\n",
       "      <th>9625</th>\n",
       "      <td>Taking Your Startup Public Is Fraught With Neg...</td>\n",
       "      <td>BUSINESS</td>\n",
       "    </tr>\n",
       "    <tr>\n",
       "      <th>7958</th>\n",
       "      <td>Women in Business: Q&amp;A with Donna Josephson Ch...</td>\n",
       "      <td>BUSINESS</td>\n",
       "    </tr>\n",
       "    <tr>\n",
       "      <th>691</th>\n",
       "      <td>Ladies From the Shark Tank Excellent advice fr...</td>\n",
       "      <td>BUSINESS</td>\n",
       "    </tr>\n",
       "    <tr>\n",
       "      <th>4905</th>\n",
       "      <td>Farmer Forced To Dump Insane Amount Of Gorgeou...</td>\n",
       "      <td>BUSINESS</td>\n",
       "    </tr>\n",
       "    <tr>\n",
       "      <th>8899</th>\n",
       "      <td>Why You Should Care About The Backlash Against...</td>\n",
       "      <td>BUSINESS</td>\n",
       "    </tr>\n",
       "    <tr>\n",
       "      <th>...</th>\n",
       "      <td>...</td>\n",
       "      <td>...</td>\n",
       "    </tr>\n",
       "    <tr>\n",
       "      <th>11483</th>\n",
       "      <td>Subjugation In Steel One cost of freedom is st...</td>\n",
       "      <td>BUSINESS</td>\n",
       "    </tr>\n",
       "    <tr>\n",
       "      <th>5197</th>\n",
       "      <td>America Is Globally Shamed For Its Pathetic Mi...</td>\n",
       "      <td>BUSINESS</td>\n",
       "    </tr>\n",
       "    <tr>\n",
       "      <th>7538</th>\n",
       "      <td>Elon Musk Biographer Calls Wall Street Cynicis...</td>\n",
       "      <td>BUSINESS</td>\n",
       "    </tr>\n",
       "    <tr>\n",
       "      <th>4677</th>\n",
       "      <td>Why Goals Are Landmarks Meant to Be Passed, No...</td>\n",
       "      <td>BUSINESS</td>\n",
       "    </tr>\n",
       "    <tr>\n",
       "      <th>3854</th>\n",
       "      <td>Can We Trust Uber? As I saw during my time in ...</td>\n",
       "      <td>BUSINESS</td>\n",
       "    </tr>\n",
       "  </tbody>\n",
       "</table>\n",
       "<p>100 rows × 2 columns</p>\n",
       "</div>"
      ],
      "text/plain": [
       "                                                    text  category\n",
       "9625   Taking Your Startup Public Is Fraught With Neg...  BUSINESS\n",
       "7958   Women in Business: Q&A with Donna Josephson Ch...  BUSINESS\n",
       "691    Ladies From the Shark Tank Excellent advice fr...  BUSINESS\n",
       "4905   Farmer Forced To Dump Insane Amount Of Gorgeou...  BUSINESS\n",
       "8899   Why You Should Care About The Backlash Against...  BUSINESS\n",
       "...                                                  ...       ...\n",
       "11483  Subjugation In Steel One cost of freedom is st...  BUSINESS\n",
       "5197   America Is Globally Shamed For Its Pathetic Mi...  BUSINESS\n",
       "7538   Elon Musk Biographer Calls Wall Street Cynicis...  BUSINESS\n",
       "4677   Why Goals Are Landmarks Meant to Be Passed, No...  BUSINESS\n",
       "3854   Can We Trust Uber? As I saw during my time in ...  BUSINESS\n",
       "\n",
       "[100 rows x 2 columns]"
      ]
     },
     "execution_count": 30,
     "metadata": {},
     "output_type": "execute_result"
    }
   ],
   "source": [
    "df_bal.head(100)"
   ]
  },
  {
   "cell_type": "code",
   "execution_count": 38,
   "id": "3043cf99",
   "metadata": {},
   "outputs": [],
   "source": [
    "target = {'BUSINESS': 0, 'SPORTS': 1, 'CRIME': 2, 'SCIENCE': 3}\n",
    "\n",
    "df_bal['category_num'] = df_bal['category'].map({\n",
    "    'BUSINESS': 0,\n",
    "    'SPORTS': 1, \n",
    "    'CRIME': 2, \n",
    "    'SCIENCE': 3\n",
    "})"
   ]
  },
  {
   "cell_type": "code",
   "execution_count": 39,
   "id": "3e4ed7ff",
   "metadata": {},
   "outputs": [
    {
     "data": {
      "text/html": [
       "<div>\n",
       "<style scoped>\n",
       "    .dataframe tbody tr th:only-of-type {\n",
       "        vertical-align: middle;\n",
       "    }\n",
       "\n",
       "    .dataframe tbody tr th {\n",
       "        vertical-align: top;\n",
       "    }\n",
       "\n",
       "    .dataframe thead th {\n",
       "        text-align: right;\n",
       "    }\n",
       "</style>\n",
       "<table border=\"1\" class=\"dataframe\">\n",
       "  <thead>\n",
       "    <tr style=\"text-align: right;\">\n",
       "      <th></th>\n",
       "      <th>text</th>\n",
       "      <th>category</th>\n",
       "      <th>category_num</th>\n",
       "    </tr>\n",
       "  </thead>\n",
       "  <tbody>\n",
       "    <tr>\n",
       "      <th>9625</th>\n",
       "      <td>Taking Your Startup Public Is Fraught With Neg...</td>\n",
       "      <td>BUSINESS</td>\n",
       "      <td>0</td>\n",
       "    </tr>\n",
       "    <tr>\n",
       "      <th>7958</th>\n",
       "      <td>Women in Business: Q&amp;A with Donna Josephson Ch...</td>\n",
       "      <td>BUSINESS</td>\n",
       "      <td>0</td>\n",
       "    </tr>\n",
       "    <tr>\n",
       "      <th>691</th>\n",
       "      <td>Ladies From the Shark Tank Excellent advice fr...</td>\n",
       "      <td>BUSINESS</td>\n",
       "      <td>0</td>\n",
       "    </tr>\n",
       "    <tr>\n",
       "      <th>4905</th>\n",
       "      <td>Farmer Forced To Dump Insane Amount Of Gorgeou...</td>\n",
       "      <td>BUSINESS</td>\n",
       "      <td>0</td>\n",
       "    </tr>\n",
       "    <tr>\n",
       "      <th>8899</th>\n",
       "      <td>Why You Should Care About The Backlash Against...</td>\n",
       "      <td>BUSINESS</td>\n",
       "      <td>0</td>\n",
       "    </tr>\n",
       "    <tr>\n",
       "      <th>...</th>\n",
       "      <td>...</td>\n",
       "      <td>...</td>\n",
       "      <td>...</td>\n",
       "    </tr>\n",
       "    <tr>\n",
       "      <th>6604</th>\n",
       "      <td>What A Dust Devil Looks Like On Mars The image...</td>\n",
       "      <td>SCIENCE</td>\n",
       "      <td>3</td>\n",
       "    </tr>\n",
       "    <tr>\n",
       "      <th>8232</th>\n",
       "      <td>Scientists Offer Plan To Hide Earth From Advan...</td>\n",
       "      <td>SCIENCE</td>\n",
       "      <td>3</td>\n",
       "    </tr>\n",
       "    <tr>\n",
       "      <th>9928</th>\n",
       "      <td>Sorry, But Cinderella's Glass Slippers Would'v...</td>\n",
       "      <td>SCIENCE</td>\n",
       "      <td>3</td>\n",
       "    </tr>\n",
       "    <tr>\n",
       "      <th>2153</th>\n",
       "      <td>New NASA Photo Shows A Crescent Pluto In All I...</td>\n",
       "      <td>SCIENCE</td>\n",
       "      <td>3</td>\n",
       "    </tr>\n",
       "    <tr>\n",
       "      <th>9574</th>\n",
       "      <td>Zoom Into The Mesmerizing Heart Of Our Own Mil...</td>\n",
       "      <td>SCIENCE</td>\n",
       "      <td>3</td>\n",
       "    </tr>\n",
       "  </tbody>\n",
       "</table>\n",
       "<p>5524 rows × 3 columns</p>\n",
       "</div>"
      ],
      "text/plain": [
       "                                                   text  category  \\\n",
       "9625  Taking Your Startup Public Is Fraught With Neg...  BUSINESS   \n",
       "7958  Women in Business: Q&A with Donna Josephson Ch...  BUSINESS   \n",
       "691   Ladies From the Shark Tank Excellent advice fr...  BUSINESS   \n",
       "4905  Farmer Forced To Dump Insane Amount Of Gorgeou...  BUSINESS   \n",
       "8899  Why You Should Care About The Backlash Against...  BUSINESS   \n",
       "...                                                 ...       ...   \n",
       "6604  What A Dust Devil Looks Like On Mars The image...   SCIENCE   \n",
       "8232  Scientists Offer Plan To Hide Earth From Advan...   SCIENCE   \n",
       "9928  Sorry, But Cinderella's Glass Slippers Would'v...   SCIENCE   \n",
       "2153  New NASA Photo Shows A Crescent Pluto In All I...   SCIENCE   \n",
       "9574  Zoom Into The Mesmerizing Heart Of Our Own Mil...   SCIENCE   \n",
       "\n",
       "      category_num  \n",
       "9625             0  \n",
       "7958             0  \n",
       "691              0  \n",
       "4905             0  \n",
       "8899             0  \n",
       "...            ...  \n",
       "6604             3  \n",
       "8232             3  \n",
       "9928             3  \n",
       "2153             3  \n",
       "9574             3  \n",
       "\n",
       "[5524 rows x 3 columns]"
      ]
     },
     "execution_count": 39,
     "metadata": {},
     "output_type": "execute_result"
    }
   ],
   "source": [
    "df_bal"
   ]
  },
  {
   "cell_type": "code",
   "execution_count": 40,
   "id": "976e5a61",
   "metadata": {},
   "outputs": [],
   "source": [
    "from sklearn.model_selection import train_test_split\n",
    "\n",
    "X_train, X_test, y_train, y_test = train_test_split(df_bal['text'], df_bal['category_num'], test_size=0.2, \n",
    "    random_state=2022,\n",
    "    stratify=df_bal['category_num']\n",
    ")"
   ]
  },
  {
   "cell_type": "code",
   "execution_count": 41,
   "id": "52c46c47",
   "metadata": {},
   "outputs": [
    {
     "name": "stdout",
     "output_type": "stream",
     "text": [
      "(4419,)\n"
     ]
    },
    {
     "data": {
      "text/plain": [
       "6071            Scientists Discover Tiniest Hedgehog Ever \n",
       "4738     Mystery Of 'Britain's Oldest Brain' Finally So...\n",
       "10604    Notre Dame, Georgia Lead Nation in Most Expens...\n",
       "4924     Pilot Killed After Hospital Helicopter Crashes...\n",
       "2237     18-Year-Old Indiana Man Arrested For Planning ...\n",
       "Name: text, dtype: object"
      ]
     },
     "execution_count": 41,
     "metadata": {},
     "output_type": "execute_result"
    }
   ],
   "source": [
    "print(X_train.shape)\n",
    "X_train.head()"
   ]
  },
  {
   "cell_type": "code",
   "execution_count": 42,
   "id": "0312239f",
   "metadata": {},
   "outputs": [
    {
     "data": {
      "text/plain": [
       "3    1105\n",
       "2    1105\n",
       "0    1105\n",
       "1    1104\n",
       "Name: category_num, dtype: int64"
      ]
     },
     "execution_count": 42,
     "metadata": {},
     "output_type": "execute_result"
    }
   ],
   "source": [
    "y_train.value_counts()"
   ]
  },
  {
   "cell_type": "markdown",
   "id": "91dc6b4c",
   "metadata": {},
   "source": [
    "# 1-gram (Bag Of Words (BOW) model)"
   ]
  },
  {
   "cell_type": "code",
   "execution_count": 43,
   "id": "db447db9",
   "metadata": {},
   "outputs": [
    {
     "name": "stdout",
     "output_type": "stream",
     "text": [
      "              precision    recall  f1-score   support\n",
      "\n",
      "           0       0.78      0.92      0.84       276\n",
      "           1       0.91      0.88      0.90       277\n",
      "           2       0.91      0.85      0.88       276\n",
      "           3       0.90      0.84      0.87       276\n",
      "\n",
      "    accuracy                           0.87      1105\n",
      "   macro avg       0.88      0.87      0.87      1105\n",
      "weighted avg       0.88      0.87      0.87      1105\n",
      "\n"
     ]
    }
   ],
   "source": [
    "from sklearn.naive_bayes import MultinomialNB\n",
    "from sklearn.pipeline import make_pipeline\n",
    "from sklearn.metrics import classification_report\n",
    "\n",
    "# #1. create a pipeline object\n",
    "\n",
    "cv = CountVectorizer(ngram_range=(1,1))\n",
    "model = MultinomialNB()\n",
    "\n",
    "pipe = make_pipeline( cv, model )\n",
    "\n",
    "#2. fit with X_train and y_train\n",
    "pipe.fit(X_train, y_train)\n",
    "\n",
    "\n",
    "#3. get the predictions for X_test and store it in y_pred\n",
    "y_pred = pipe.predict(X_test)\n",
    "\n",
    "\n",
    "#4. print the classfication report\n",
    "print(classification_report(y_test, y_pred))"
   ]
  },
  {
   "cell_type": "code",
   "execution_count": 44,
   "id": "9d2eed5e",
   "metadata": {},
   "outputs": [],
   "source": [
    "from sklearn.metrics import accuracy_score"
   ]
  },
  {
   "cell_type": "code",
   "execution_count": 46,
   "id": "28a24fbe",
   "metadata": {},
   "outputs": [
    {
     "name": "stdout",
     "output_type": "stream",
     "text": [
      "0.8714932126696833\n"
     ]
    }
   ],
   "source": [
    "acc_sc = accuracy_score(y_pred, y_test)\n",
    "print(acc_sc)"
   ]
  },
  {
   "cell_type": "code",
   "execution_count": 47,
   "id": "23ced639",
   "metadata": {},
   "outputs": [
    {
     "data": {
      "text/plain": [
       "12661    Weinstein Company To Seek Bankruptcy After Las...\n",
       "10334    Penguins Find Their Moment In The Spotlight Wi...\n",
       "2255     Get Used To Nor'easters — Arctic Warming May M...\n",
       "5764      This Is What The Future Of Fast Food Looks Like \n",
       "4826     Catholic Priest Convicted Of Sexually Assaulti...\n",
       "Name: text, dtype: object"
      ]
     },
     "execution_count": 47,
     "metadata": {},
     "output_type": "execute_result"
    }
   ],
   "source": [
    "X_test[:5]"
   ]
  },
  {
   "cell_type": "code",
   "execution_count": 48,
   "id": "bc8e8543",
   "metadata": {},
   "outputs": [
    {
     "data": {
      "text/plain": [
       "12661    0\n",
       "10334    3\n",
       "2255     3\n",
       "5764     0\n",
       "4826     2\n",
       "Name: category_num, dtype: int64"
      ]
     },
     "execution_count": 48,
     "metadata": {},
     "output_type": "execute_result"
    }
   ],
   "source": [
    "y_test[:5]"
   ]
  },
  {
   "cell_type": "code",
   "execution_count": 49,
   "id": "84c7ddf3",
   "metadata": {},
   "outputs": [
    {
     "data": {
      "text/plain": [
       "array([0, 3, 3, 3, 2], dtype=int64)"
      ]
     },
     "execution_count": 49,
     "metadata": {},
     "output_type": "execute_result"
    }
   ],
   "source": [
    "y_pred[:5]"
   ]
  },
  {
   "cell_type": "markdown",
   "id": "d09649d1",
   "metadata": {},
   "source": [
    "# Use 1-gram and bigrams"
   ]
  },
  {
   "cell_type": "code",
   "execution_count": 50,
   "id": "f898ddde",
   "metadata": {},
   "outputs": [
    {
     "name": "stdout",
     "output_type": "stream",
     "text": [
      "              precision    recall  f1-score   support\n",
      "\n",
      "           0       0.72      0.93      0.81       276\n",
      "           1       0.92      0.83      0.87       277\n",
      "           2       0.91      0.84      0.87       276\n",
      "           3       0.92      0.79      0.85       276\n",
      "\n",
      "    accuracy                           0.85      1105\n",
      "   macro avg       0.86      0.85      0.85      1105\n",
      "weighted avg       0.87      0.85      0.85      1105\n",
      "\n"
     ]
    }
   ],
   "source": [
    "cv = CountVectorizer(ngram_range=(1,2))\n",
    "model = MultinomialNB()\n",
    "pipe = make_pipeline( cv, model )\n",
    "pipe.fit(X_train, y_train)\n",
    "y_pred = pipe.predict(X_test)\n",
    "print(classification_report(y_test, y_pred))"
   ]
  },
  {
   "cell_type": "code",
   "execution_count": 51,
   "id": "20bcc10f",
   "metadata": {},
   "outputs": [
    {
     "name": "stdout",
     "output_type": "stream",
     "text": [
      "0.8506787330316742\n"
     ]
    }
   ],
   "source": [
    "acc_sc = accuracy_score(y_pred, y_test)\n",
    "print(acc_sc)"
   ]
  },
  {
   "cell_type": "code",
   "execution_count": 52,
   "id": "61363058",
   "metadata": {},
   "outputs": [
    {
     "name": "stdout",
     "output_type": "stream",
     "text": [
      "              precision    recall  f1-score   support\n",
      "\n",
      "           0       0.70      0.93      0.80       276\n",
      "           1       0.92      0.83      0.87       277\n",
      "           2       0.90      0.84      0.87       276\n",
      "           3       0.92      0.78      0.84       276\n",
      "\n",
      "    accuracy                           0.84      1105\n",
      "   macro avg       0.86      0.84      0.84      1105\n",
      "weighted avg       0.86      0.84      0.84      1105\n",
      "\n"
     ]
    }
   ],
   "source": [
    "cv = CountVectorizer(ngram_range=(1,3))\n",
    "model = MultinomialNB()\n",
    "pipe = make_pipeline( cv, model )\n",
    "pipe.fit(X_train, y_train)\n",
    "y_pred = pipe.predict(X_test)\n",
    "print(classification_report(y_test, y_pred))"
   ]
  },
  {
   "cell_type": "code",
   "execution_count": 53,
   "id": "455aee75",
   "metadata": {},
   "outputs": [
    {
     "name": "stdout",
     "output_type": "stream",
     "text": [
      "0.8416289592760181\n"
     ]
    }
   ],
   "source": [
    "acc_sc = accuracy_score(y_pred, y_test)\n",
    "print(acc_sc)"
   ]
  },
  {
   "cell_type": "markdown",
   "id": "ac12d971",
   "metadata": {},
   "source": [
    "# text pre-processing to remove stop words, punctuations and apply lemmatization\n"
   ]
  },
  {
   "cell_type": "code",
   "execution_count": 54,
   "id": "64adc5c5",
   "metadata": {},
   "outputs": [],
   "source": [
    "import spacy\n",
    "\n",
    "nlp = spacy.load(\"en_core_web_sm\")\n",
    "\n",
    "def preprocess(text):\n",
    "    filtered_token = []\n",
    "    doc = nlp(text)\n",
    "    \n",
    "    for token in doc:\n",
    "        if token.is_stop or token.is_punct:\n",
    "            continue\n",
    "        filtered_token.append(token.lemma_)\n",
    "        \n",
    "    return \" \".join(filtered_token)"
   ]
  },
  {
   "cell_type": "code",
   "execution_count": 55,
   "id": "e2591607",
   "metadata": {},
   "outputs": [],
   "source": [
    "df_bal['preprocessed_txt'] = df_bal['text'].apply(preprocess) "
   ]
  },
  {
   "cell_type": "code",
   "execution_count": 56,
   "id": "6b5b06da",
   "metadata": {},
   "outputs": [
    {
     "data": {
      "text/html": [
       "<div>\n",
       "<style scoped>\n",
       "    .dataframe tbody tr th:only-of-type {\n",
       "        vertical-align: middle;\n",
       "    }\n",
       "\n",
       "    .dataframe tbody tr th {\n",
       "        vertical-align: top;\n",
       "    }\n",
       "\n",
       "    .dataframe thead th {\n",
       "        text-align: right;\n",
       "    }\n",
       "</style>\n",
       "<table border=\"1\" class=\"dataframe\">\n",
       "  <thead>\n",
       "    <tr style=\"text-align: right;\">\n",
       "      <th></th>\n",
       "      <th>text</th>\n",
       "      <th>category</th>\n",
       "      <th>category_num</th>\n",
       "      <th>preprocessed_txt</th>\n",
       "    </tr>\n",
       "  </thead>\n",
       "  <tbody>\n",
       "    <tr>\n",
       "      <th>9625</th>\n",
       "      <td>Taking Your Startup Public Is Fraught With Neg...</td>\n",
       "      <td>BUSINESS</td>\n",
       "      <td>0</td>\n",
       "      <td>take Startup public fraught negative old day e...</td>\n",
       "    </tr>\n",
       "    <tr>\n",
       "      <th>7958</th>\n",
       "      <td>Women in Business: Q&amp;A with Donna Josephson Ch...</td>\n",
       "      <td>BUSINESS</td>\n",
       "      <td>0</td>\n",
       "      <td>woman business Q&amp;A Donna Josephson Chief Marke...</td>\n",
       "    </tr>\n",
       "    <tr>\n",
       "      <th>691</th>\n",
       "      <td>Ladies From the Shark Tank Excellent advice fr...</td>\n",
       "      <td>BUSINESS</td>\n",
       "      <td>0</td>\n",
       "      <td>lady Shark Tank Excellent advice lady continue...</td>\n",
       "    </tr>\n",
       "    <tr>\n",
       "      <th>4905</th>\n",
       "      <td>Farmer Forced To Dump Insane Amount Of Gorgeou...</td>\n",
       "      <td>BUSINESS</td>\n",
       "      <td>0</td>\n",
       "      <td>Farmer force dump Insane Gorgeous Cherries che...</td>\n",
       "    </tr>\n",
       "    <tr>\n",
       "      <th>8899</th>\n",
       "      <td>Why You Should Care About The Backlash Against...</td>\n",
       "      <td>BUSINESS</td>\n",
       "      <td>0</td>\n",
       "      <td>care Backlash Holiday Creep term holiday creep...</td>\n",
       "    </tr>\n",
       "    <tr>\n",
       "      <th>...</th>\n",
       "      <td>...</td>\n",
       "      <td>...</td>\n",
       "      <td>...</td>\n",
       "      <td>...</td>\n",
       "    </tr>\n",
       "    <tr>\n",
       "      <th>6604</th>\n",
       "      <td>What A Dust Devil Looks Like On Mars The image...</td>\n",
       "      <td>SCIENCE</td>\n",
       "      <td>3</td>\n",
       "      <td>Dust Devil look like Mars image world</td>\n",
       "    </tr>\n",
       "    <tr>\n",
       "      <th>8232</th>\n",
       "      <td>Scientists Offer Plan To Hide Earth From Advan...</td>\n",
       "      <td>SCIENCE</td>\n",
       "      <td>3</td>\n",
       "      <td>scientist offer plan hide earth Advanced Space...</td>\n",
       "    </tr>\n",
       "    <tr>\n",
       "      <th>9928</th>\n",
       "      <td>Sorry, But Cinderella's Glass Slippers Would'v...</td>\n",
       "      <td>SCIENCE</td>\n",
       "      <td>3</td>\n",
       "      <td>sorry Cinderella Glass Slippers shatter spoile...</td>\n",
       "    </tr>\n",
       "    <tr>\n",
       "      <th>2153</th>\n",
       "      <td>New NASA Photo Shows A Crescent Pluto In All I...</td>\n",
       "      <td>SCIENCE</td>\n",
       "      <td>3</td>\n",
       "      <td>New NASA Photo show Crescent Pluto glory backl...</td>\n",
       "    </tr>\n",
       "    <tr>\n",
       "      <th>9574</th>\n",
       "      <td>Zoom Into The Mesmerizing Heart Of Our Own Mil...</td>\n",
       "      <td>SCIENCE</td>\n",
       "      <td>3</td>\n",
       "      <td>zoom Mesmerizing Heart milky way Galaxy stunni...</td>\n",
       "    </tr>\n",
       "  </tbody>\n",
       "</table>\n",
       "<p>5524 rows × 4 columns</p>\n",
       "</div>"
      ],
      "text/plain": [
       "                                                   text  category  \\\n",
       "9625  Taking Your Startup Public Is Fraught With Neg...  BUSINESS   \n",
       "7958  Women in Business: Q&A with Donna Josephson Ch...  BUSINESS   \n",
       "691   Ladies From the Shark Tank Excellent advice fr...  BUSINESS   \n",
       "4905  Farmer Forced To Dump Insane Amount Of Gorgeou...  BUSINESS   \n",
       "8899  Why You Should Care About The Backlash Against...  BUSINESS   \n",
       "...                                                 ...       ...   \n",
       "6604  What A Dust Devil Looks Like On Mars The image...   SCIENCE   \n",
       "8232  Scientists Offer Plan To Hide Earth From Advan...   SCIENCE   \n",
       "9928  Sorry, But Cinderella's Glass Slippers Would'v...   SCIENCE   \n",
       "2153  New NASA Photo Shows A Crescent Pluto In All I...   SCIENCE   \n",
       "9574  Zoom Into The Mesmerizing Heart Of Our Own Mil...   SCIENCE   \n",
       "\n",
       "      category_num                                   preprocessed_txt  \n",
       "9625             0  take Startup public fraught negative old day e...  \n",
       "7958             0  woman business Q&A Donna Josephson Chief Marke...  \n",
       "691              0  lady Shark Tank Excellent advice lady continue...  \n",
       "4905             0  Farmer force dump Insane Gorgeous Cherries che...  \n",
       "8899             0  care Backlash Holiday Creep term holiday creep...  \n",
       "...            ...                                                ...  \n",
       "6604             3              Dust Devil look like Mars image world  \n",
       "8232             3  scientist offer plan hide earth Advanced Space...  \n",
       "9928             3  sorry Cinderella Glass Slippers shatter spoile...  \n",
       "2153             3  New NASA Photo show Crescent Pluto glory backl...  \n",
       "9574             3  zoom Mesmerizing Heart milky way Galaxy stunni...  \n",
       "\n",
       "[5524 rows x 4 columns]"
      ]
     },
     "execution_count": 56,
     "metadata": {},
     "output_type": "execute_result"
    }
   ],
   "source": [
    "df_bal"
   ]
  },
  {
   "cell_type": "code",
   "execution_count": 57,
   "id": "328b7a3a",
   "metadata": {},
   "outputs": [],
   "source": [
    "from sklearn.model_selection import train_test_split\n",
    "\n",
    "X_train, X_test, y_train, y_test = train_test_split(df_bal['preprocessed_txt'], df_bal['category_num'], test_size=0.2, \n",
    "    random_state=2022,\n",
    "    stratify=df_bal['category_num']\n",
    ")"
   ]
  },
  {
   "cell_type": "code",
   "execution_count": 58,
   "id": "a36cba28",
   "metadata": {},
   "outputs": [
    {
     "name": "stdout",
     "output_type": "stream",
     "text": [
      "              precision    recall  f1-score   support\n",
      "\n",
      "           0       0.83      0.92      0.87       276\n",
      "           1       0.91      0.89      0.90       277\n",
      "           2       0.89      0.91      0.90       276\n",
      "           3       0.92      0.82      0.87       276\n",
      "\n",
      "    accuracy                           0.89      1105\n",
      "   macro avg       0.89      0.89      0.89      1105\n",
      "weighted avg       0.89      0.89      0.89      1105\n",
      "\n"
     ]
    }
   ],
   "source": [
    "cv = CountVectorizer(ngram_range=(1,3))\n",
    "model = MultinomialNB()\n",
    "pipe = make_pipeline( cv, model )\n",
    "pipe.fit(X_train, y_train)\n",
    "y_pred = pipe.predict(X_test)\n",
    "print(classification_report(y_test, y_pred))"
   ]
  },
  {
   "cell_type": "code",
   "execution_count": 59,
   "id": "d207b43d",
   "metadata": {},
   "outputs": [
    {
     "name": "stdout",
     "output_type": "stream",
     "text": [
      "              precision    recall  f1-score   support\n",
      "\n",
      "           0       0.84      0.91      0.87       276\n",
      "           1       0.91      0.90      0.90       277\n",
      "           2       0.89      0.91      0.90       276\n",
      "           3       0.91      0.83      0.87       276\n",
      "\n",
      "    accuracy                           0.89      1105\n",
      "   macro avg       0.89      0.89      0.89      1105\n",
      "weighted avg       0.89      0.89      0.89      1105\n",
      "\n"
     ]
    }
   ],
   "source": [
    "cv = CountVectorizer(ngram_range=(1,2))\n",
    "model = MultinomialNB()\n",
    "pipe = make_pipeline( cv, model )\n",
    "pipe.fit(X_train, y_train)\n",
    "y_pred = pipe.predict(X_test)\n",
    "print(classification_report(y_test, y_pred))"
   ]
  },
  {
   "cell_type": "markdown",
   "id": "1d658fef",
   "metadata": {},
   "source": [
    "# COMPARISION KARLO"
   ]
  },
  {
   "cell_type": "code",
   "execution_count": 60,
   "id": "954fd642",
   "metadata": {},
   "outputs": [
    {
     "data": {
      "text/plain": [
       "array([[252,   4,  12,   8],\n",
       "       [ 10, 248,   9,  10],\n",
       "       [ 14,   7, 251,   4],\n",
       "       [ 24,  13,  11, 228]], dtype=int64)"
      ]
     },
     "execution_count": 60,
     "metadata": {},
     "output_type": "execute_result"
    }
   ],
   "source": [
    "from sklearn.metrics import confusion_matrix\n",
    "cm = confusion_matrix(y_test, y_pred)\n",
    "cm"
   ]
  },
  {
   "cell_type": "code",
   "execution_count": 61,
   "id": "d80b4ca1",
   "metadata": {},
   "outputs": [
    {
     "data": {
      "text/plain": [
       "Text(69.0, 0.5, 'Truth')"
      ]
     },
     "execution_count": 61,
     "metadata": {},
     "output_type": "execute_result"
    },
    {
     "data": {
      "image/png": "[encoded data removed]",
      "text/plain": [
       "<Figure size 720x504 with 2 Axes>"
      ]
     },
     "metadata": {
      "needs_background": "light"
     },
     "output_type": "display_data"
    }
   ],
   "source": [
    "from matplotlib import pyplot as plt\n",
    "import seaborn as sn\n",
    "plt.figure(figsize = (10,7))\n",
    "sn.heatmap(cm, annot=True, fmt='d')\n",
    "plt.xlabel('Prediction')\n",
    "plt.ylabel('Truth')"
   ]
  },
  {
   "cell_type": "markdown",
   "id": "87b1e643",
   "metadata": {},
   "source": [
    "# Using TD_IDF instead of Count VEctorizer"
   ]
  },
  {
   "cell_type": "code",
   "execution_count": 125,
   "id": "accd9823",
   "metadata": {},
   "outputs": [
    {
     "name": "stdout",
     "output_type": "stream",
     "text": [
      "              precision    recall  f1-score   support\n",
      "\n",
      "           0       0.60      0.90      0.72       276\n",
      "           1       0.83      0.75      0.79       277\n",
      "           2       0.86      0.74      0.79       276\n",
      "           3       0.88      0.65      0.75       276\n",
      "\n",
      "    accuracy                           0.76      1105\n",
      "   macro avg       0.79      0.76      0.76      1105\n",
      "weighted avg       0.79      0.76      0.76      1105\n",
      "\n"
     ]
    }
   ],
   "source": [
    "from sklearn.feature_extraction.text import TfidfVectorizer\n",
    "from sklearn.neighbors import KNeighborsClassifier\n",
    "from sklearn.pipeline import Pipeline\n",
    "from sklearn.metrics import classification_report\n",
    "\n",
    "#1. create a pipeline object\n",
    "clf = Pipeline([\n",
    "     ('vectorizer_tfidf',TfidfVectorizer()),    \n",
    "     ('KNN', KNeighborsClassifier())         \n",
    "])\n",
    "\n",
    "#2. fit with X_train and y_train\n",
    "clf.fit(X_train, y_train)\n",
    "\n",
    "\n",
    "#3. get the predictions for X_test and store it in y_pred\n",
    "y_pred = clf.predict(X_test)\n",
    "\n",
    "\n",
    "#4. print the classfication report\n",
    "print(classification_report(y_test, y_pred))"
   ]
  },
  {
   "cell_type": "code",
   "execution_count": 126,
   "id": "41552fe7",
   "metadata": {},
   "outputs": [
    {
     "name": "stdout",
     "output_type": "stream",
     "text": [
      "              precision    recall  f1-score   support\n",
      "\n",
      "           0       0.84      0.90      0.87       276\n",
      "           1       0.91      0.88      0.90       277\n",
      "           2       0.87      0.91      0.89       276\n",
      "           3       0.91      0.84      0.88       276\n",
      "\n",
      "    accuracy                           0.88      1105\n",
      "   macro avg       0.88      0.88      0.88      1105\n",
      "weighted avg       0.88      0.88      0.88      1105\n",
      "\n"
     ]
    }
   ],
   "source": [
    "from sklearn.naive_bayes import MultinomialNB\n",
    "\n",
    "\n",
    "#1. create a pipeline object\n",
    "clf = Pipeline([\n",
    "     ('vectorizer_tfidf',TfidfVectorizer()),    \n",
    "     ('Multi NB', MultinomialNB())         \n",
    "])\n",
    "\n",
    "#2. fit with X_train and y_train\n",
    "clf.fit(X_train, y_train)\n",
    "\n",
    "\n",
    "#3. get the predictions for X_test and store it in y_pred\n",
    "y_pred = clf.predict(X_test)\n",
    "\n",
    "\n",
    "#4. print the classfication report\n",
    "print(classification_report(y_test, y_pred))"
   ]
  },
  {
   "cell_type": "code",
   "execution_count": null,
   "id": "e03dccab",
   "metadata": {},
   "outputs": [],
   "source": []
  }
 ],
 "metadata": {
  "kernelspec": {
   "display_name": "Python 3 (ipykernel)",
   "language": "python",
   "name": "python3"
  },
  "language_info": {
   "codemirror_mode": {
    "name": "ipython",
    "version": 3
   },
   "file_extension": ".py",
   "mimetype": "text/x-python",
   "name": "python",
   "nbconvert_exporter": "python",
   "pygments_lexer": "ipython3",
   "version": "3.10.1"
  }
 },
 "nbformat": 4,
 "nbformat_minor": 5
}
